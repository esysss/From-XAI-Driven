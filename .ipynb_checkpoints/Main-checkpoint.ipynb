{
 "cells": [
  {
   "cell_type": "code",
   "execution_count": 1,
   "id": "10c33495-3628-4465-b7b7-7a4cbd05cb5b",
   "metadata": {},
   "outputs": [],
   "source": [
    "import pandas as pd\n",
    "import pm4py\n",
    "from variant_stats import get_variants_stats\n",
    "from pm4py.util import ml_utils\n",
    "import importlib.util\n",
    "from pm4py.algo.discovery.heuristics import algorithm as heuristics_miner\n",
    "from pm4py.visualization.heuristics_net import visualizer as hn_visualizer"
   ]
  },
  {
   "cell_type": "code",
   "execution_count": 2,
   "id": "38034ecd-ce53-4fa0-82c4-1d7b8970c02f",
   "metadata": {},
   "outputs": [],
   "source": [
    "df2 = pd.read_pickle('decision_paths/subset_optimized_simple_size_0.2_fitnessweights_p0.34_f0.33_c0.33_weightmodel_weight_positive_simplified.pickle')\n",
    "\n",
    "# Initialize an empty list to hold event log rows\n",
    "event_log0 = []\n",
    "event_log1 = []\n",
    "\n",
    "# Iterate over each decision path in the dataset\n",
    "timestamp = pd.Timestamp('2024-11-14')\n",
    "case_id = -1\n",
    "for i in range(len(df2)):\n",
    "    data = df2['rule_to_simplified_rules'].iloc[i]\n",
    "    for path in data:\n",
    "        case_id += 1\n",
    "        for t,step in enumerate(path):\n",
    "            # Create an event dictionary for the current step\n",
    "            event = {\n",
    "                'case_id': case_id,\n",
    "                'activity': step.get('feature_value'),\n",
    "                'timestamp': timestamp + pd.Timedelta(days=t)\n",
    "            }\n",
    "            # if event['activity'] in to_remove:\n",
    "            #     # print(f\" I removed {event['activity']} from the log\")\n",
    "            #     continue\n",
    "            if pd.isna(event['activity']):\n",
    "                event['activity'] = f'predict{step['predict']}'\n",
    "\n",
    "            \n",
    "            # Append the event to the event log\n",
    "            if path[-1]['predict'] == 1:\n",
    "                event_log1.append(event)\n",
    "            else:\n",
    "                event_log0.append(event)\n",
    "\n",
    "event_log1 = pd.DataFrame(event_log1)\n",
    "event_log0 = pd.DataFrame(event_log0)\n",
    "\n",
    "log1 = event_log1.copy()\n",
    "log1.rename(columns={'timestamp': 'time:timestamp', 'case_id': 'case:concept:name', 'activity': 'concept:name'}, inplace=True)\n",
    "\n",
    "log0 = event_log0.copy()\n",
    "log0.rename(columns={'timestamp': 'time:timestamp', 'case_id': 'case:concept:name', 'activity': 'concept:name'}, inplace=True)\n",
    "\n",
    "df0 = get_variants_stats(log0)\n",
    "df1 = get_variants_stats(log1)"
   ]
  },
  {
   "cell_type": "code",
   "execution_count": null,
   "id": "c43ad2ec-1056-4f20-8ec9-2513b079883e",
   "metadata": {},
   "outputs": [],
   "source": []
  }
 ],
 "metadata": {
  "kernelspec": {
   "display_name": "Python 3 (ipykernel)",
   "language": "python",
   "name": "python3"
  },
  "language_info": {
   "codemirror_mode": {
    "name": "ipython",
    "version": 3
   },
   "file_extension": ".py",
   "mimetype": "text/x-python",
   "name": "python",
   "nbconvert_exporter": "python",
   "pygments_lexer": "ipython3",
   "version": "3.12.5"
  }
 },
 "nbformat": 4,
 "nbformat_minor": 5
}
